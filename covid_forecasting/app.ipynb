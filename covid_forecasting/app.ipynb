{
 "cells": [
  {
   "cell_type": "code",
   "execution_count": 150,
   "id": "04861e28",
   "metadata": {},
   "outputs": [],
   "source": [
    "import pandas as pd\n",
    "import numpy as np"
   ]
  },
  {
   "cell_type": "code",
   "execution_count": 151,
   "id": "cc4961a8",
   "metadata": {},
   "outputs": [],
   "source": [
    "import matplotlib.pyplot as plt"
   ]
  },
  {
   "cell_type": "code",
   "execution_count": 152,
   "id": "9b4ff110",
   "metadata": {},
   "outputs": [],
   "source": [
    "df_India=pd.read_csv('CSV/India_timeline.csv',index_col='Date',parse_dates=True)"
   ]
  },
  {
   "cell_type": "code",
   "execution_count": 4,
   "id": "0da1582c",
   "metadata": {},
   "outputs": [
    {
     "data": {
      "text/plain": [
       "476"
      ]
     },
     "execution_count": 4,
     "metadata": {},
     "output_type": "execute_result"
    }
   ],
   "source": [
    "len(df_India)"
   ]
  },
  {
   "cell_type": "code",
   "execution_count": 5,
   "id": "454f9944",
   "metadata": {},
   "outputs": [],
   "source": [
    "df_India.drop(['Unnamed: 0'],axis=1,inplace=True)"
   ]
  },
  {
   "cell_type": "code",
   "execution_count": 6,
   "id": "5b3ff1c9",
   "metadata": {},
   "outputs": [
    {
     "name": "stdout",
     "output_type": "stream",
     "text": [
      "<class 'pandas.core.frame.DataFrame'>\n",
      "DatetimeIndex: 476 entries, 2020-01-30 to 2021-05-19\n",
      "Data columns (total 6 columns):\n",
      " #   Column          Non-Null Count  Dtype  \n",
      "---  ------          --------------  -----  \n",
      " 0   Confirmed       476 non-null    float64\n",
      " 1   Deaths          476 non-null    float64\n",
      " 2   Cured           476 non-null    float64\n",
      " 3   Daily_Change_C  476 non-null    int64  \n",
      " 4   Daily_Change_R  476 non-null    int64  \n",
      " 5   Daily_Change_D  476 non-null    int64  \n",
      "dtypes: float64(3), int64(3)\n",
      "memory usage: 26.0 KB\n"
     ]
    }
   ],
   "source": [
    "df_India.info()"
   ]
  },
  {
   "cell_type": "code",
   "execution_count": 7,
   "id": "c3e04149",
   "metadata": {},
   "outputs": [],
   "source": [
    "df_world=pd.read_csv('CSV/worldwide_daily_change.csv',index_col='index',parse_dates=True)\n",
    "df_world.index.freq = 'D'"
   ]
  },
  {
   "cell_type": "code",
   "execution_count": 8,
   "id": "0a42ee42",
   "metadata": {},
   "outputs": [],
   "source": [
    "df_world.drop('Unnamed: 0',axis=1,inplace=True)"
   ]
  },
  {
   "cell_type": "code",
   "execution_count": 9,
   "id": "8f5afb52",
   "metadata": {},
   "outputs": [
    {
     "data": {
      "text/html": [
       "<div>\n",
       "<style scoped>\n",
       "    .dataframe tbody tr th:only-of-type {\n",
       "        vertical-align: middle;\n",
       "    }\n",
       "\n",
       "    .dataframe tbody tr th {\n",
       "        vertical-align: top;\n",
       "    }\n",
       "\n",
       "    .dataframe thead th {\n",
       "        text-align: right;\n",
       "    }\n",
       "</style>\n",
       "<table border=\"1\" class=\"dataframe\">\n",
       "  <thead>\n",
       "    <tr style=\"text-align: right;\">\n",
       "      <th></th>\n",
       "      <th>Daily_Change_C</th>\n",
       "      <th>Daily_change_R</th>\n",
       "      <th>Daily_change_D</th>\n",
       "    </tr>\n",
       "    <tr>\n",
       "      <th>index</th>\n",
       "      <th></th>\n",
       "      <th></th>\n",
       "      <th></th>\n",
       "    </tr>\n",
       "  </thead>\n",
       "  <tbody>\n",
       "    <tr>\n",
       "      <th>2021-05-19</th>\n",
       "      <td>671092</td>\n",
       "      <td>698027</td>\n",
       "      <td>13344</td>\n",
       "    </tr>\n",
       "    <tr>\n",
       "      <th>2021-05-20</th>\n",
       "      <td>628529</td>\n",
       "      <td>641259</td>\n",
       "      <td>12830</td>\n",
       "    </tr>\n",
       "    <tr>\n",
       "      <th>2021-05-21</th>\n",
       "      <td>607596</td>\n",
       "      <td>613571</td>\n",
       "      <td>12598</td>\n",
       "    </tr>\n",
       "    <tr>\n",
       "      <th>2021-05-22</th>\n",
       "      <td>560116</td>\n",
       "      <td>605485</td>\n",
       "      <td>10809</td>\n",
       "    </tr>\n",
       "    <tr>\n",
       "      <th>2021-05-23</th>\n",
       "      <td>478141</td>\n",
       "      <td>509894</td>\n",
       "      <td>9813</td>\n",
       "    </tr>\n",
       "  </tbody>\n",
       "</table>\n",
       "</div>"
      ],
      "text/plain": [
       "            Daily_Change_C  Daily_change_R  Daily_change_D\n",
       "index                                                     \n",
       "2021-05-19          671092          698027           13344\n",
       "2021-05-20          628529          641259           12830\n",
       "2021-05-21          607596          613571           12598\n",
       "2021-05-22          560116          605485           10809\n",
       "2021-05-23          478141          509894            9813"
      ]
     },
     "execution_count": 9,
     "metadata": {},
     "output_type": "execute_result"
    }
   ],
   "source": [
    "df_world.tail()"
   ]
  },
  {
   "cell_type": "code",
   "execution_count": 10,
   "id": "811031e9",
   "metadata": {},
   "outputs": [
    {
     "data": {
      "text/plain": [
       "488"
      ]
     },
     "execution_count": 10,
     "metadata": {},
     "output_type": "execute_result"
    }
   ],
   "source": [
    "len(df_world)"
   ]
  },
  {
   "cell_type": "code",
   "execution_count": 11,
   "id": "c90f872d",
   "metadata": {},
   "outputs": [
    {
     "data": {
      "text/html": [
       "<div>\n",
       "<style scoped>\n",
       "    .dataframe tbody tr th:only-of-type {\n",
       "        vertical-align: middle;\n",
       "    }\n",
       "\n",
       "    .dataframe tbody tr th {\n",
       "        vertical-align: top;\n",
       "    }\n",
       "\n",
       "    .dataframe thead th {\n",
       "        text-align: right;\n",
       "    }\n",
       "</style>\n",
       "<table border=\"1\" class=\"dataframe\">\n",
       "  <thead>\n",
       "    <tr style=\"text-align: right;\">\n",
       "      <th></th>\n",
       "      <th>Daily_Change_C</th>\n",
       "      <th>Daily_change_R</th>\n",
       "      <th>Daily_change_D</th>\n",
       "    </tr>\n",
       "    <tr>\n",
       "      <th>index</th>\n",
       "      <th></th>\n",
       "      <th></th>\n",
       "      <th></th>\n",
       "    </tr>\n",
       "  </thead>\n",
       "  <tbody>\n",
       "    <tr>\n",
       "      <th>2020-01-22</th>\n",
       "      <td>0</td>\n",
       "      <td>0</td>\n",
       "      <td>0</td>\n",
       "    </tr>\n",
       "    <tr>\n",
       "      <th>2020-01-23</th>\n",
       "      <td>98</td>\n",
       "      <td>2</td>\n",
       "      <td>1</td>\n",
       "    </tr>\n",
       "    <tr>\n",
       "      <th>2020-01-24</th>\n",
       "      <td>286</td>\n",
       "      <td>7</td>\n",
       "      <td>8</td>\n",
       "    </tr>\n",
       "    <tr>\n",
       "      <th>2020-01-25</th>\n",
       "      <td>492</td>\n",
       "      <td>3</td>\n",
       "      <td>16</td>\n",
       "    </tr>\n",
       "    <tr>\n",
       "      <th>2020-01-26</th>\n",
       "      <td>685</td>\n",
       "      <td>14</td>\n",
       "      <td>14</td>\n",
       "    </tr>\n",
       "    <tr>\n",
       "      <th>...</th>\n",
       "      <td>...</td>\n",
       "      <td>...</td>\n",
       "      <td>...</td>\n",
       "    </tr>\n",
       "    <tr>\n",
       "      <th>2021-05-19</th>\n",
       "      <td>671092</td>\n",
       "      <td>698027</td>\n",
       "      <td>13344</td>\n",
       "    </tr>\n",
       "    <tr>\n",
       "      <th>2021-05-20</th>\n",
       "      <td>628529</td>\n",
       "      <td>641259</td>\n",
       "      <td>12830</td>\n",
       "    </tr>\n",
       "    <tr>\n",
       "      <th>2021-05-21</th>\n",
       "      <td>607596</td>\n",
       "      <td>613571</td>\n",
       "      <td>12598</td>\n",
       "    </tr>\n",
       "    <tr>\n",
       "      <th>2021-05-22</th>\n",
       "      <td>560116</td>\n",
       "      <td>605485</td>\n",
       "      <td>10809</td>\n",
       "    </tr>\n",
       "    <tr>\n",
       "      <th>2021-05-23</th>\n",
       "      <td>478141</td>\n",
       "      <td>509894</td>\n",
       "      <td>9813</td>\n",
       "    </tr>\n",
       "  </tbody>\n",
       "</table>\n",
       "<p>488 rows × 3 columns</p>\n",
       "</div>"
      ],
      "text/plain": [
       "            Daily_Change_C  Daily_change_R  Daily_change_D\n",
       "index                                                     \n",
       "2020-01-22               0               0               0\n",
       "2020-01-23              98               2               1\n",
       "2020-01-24             286               7               8\n",
       "2020-01-25             492               3              16\n",
       "2020-01-26             685              14              14\n",
       "...                    ...             ...             ...\n",
       "2021-05-19          671092          698027           13344\n",
       "2021-05-20          628529          641259           12830\n",
       "2021-05-21          607596          613571           12598\n",
       "2021-05-22          560116          605485           10809\n",
       "2021-05-23          478141          509894            9813\n",
       "\n",
       "[488 rows x 3 columns]"
      ]
     },
     "execution_count": 11,
     "metadata": {},
     "output_type": "execute_result"
    }
   ],
   "source": [
    "df_world"
   ]
  },
  {
   "cell_type": "code",
   "execution_count": 12,
   "id": "9a7f6569",
   "metadata": {},
   "outputs": [
    {
     "data": {
      "text/plain": [
       "'/Users/ganji/Desktop/ADQ/Case_study/covid_poc'"
      ]
     },
     "execution_count": 12,
     "metadata": {},
     "output_type": "execute_result"
    }
   ],
   "source": [
    "pwd"
   ]
  },
  {
   "cell_type": "code",
   "execution_count": 13,
   "id": "b29175f6",
   "metadata": {},
   "outputs": [],
   "source": [
    "\n",
    "from flask import Flask, request, render_template, jsonify # Import flask libraries\n",
    "import pickle"
   ]
  },
  {
   "cell_type": "code",
   "execution_count": 213,
   "id": "28b8ee1d",
   "metadata": {},
   "outputs": [
    {
     "name": "stdout",
     "output_type": "stream",
     "text": [
      " * Serving Flask app '__main__' (lazy loading)\n",
      " * Environment: production\n",
      "\u001b[31m   WARNING: This is a development server. Do not use it in a production deployment.\u001b[0m\n",
      "\u001b[2m   Use a production WSGI server instead.\u001b[0m\n",
      " * Debug mode: off\n"
     ]
    },
    {
     "name": "stderr",
     "output_type": "stream",
     "text": [
      " * Running on http://127.0.0.1:5000/ (Press CTRL+C to quit)\n",
      "127.0.0.1 - - [10/Jun/2021 20:47:50] \"GET / HTTP/1.1\" 200 -\n",
      "127.0.0.1 - - [10/Jun/2021 20:47:54] \"GET /result?noOfDays=5 HTTP/1.1\" 200 -\n",
      "127.0.0.1 - - [10/Jun/2021 20:47:55] \"\u001b[36mGET /static/css/styles.css HTTP/1.1\u001b[0m\" 304 -\n",
      "127.0.0.1 - - [10/Jun/2021 20:47:55] \"\u001b[36mGET /static/js/index.js HTTP/1.1\u001b[0m\" 304 -\n",
      "127.0.0.1 - - [10/Jun/2021 20:47:55] \"\u001b[36mGET /static/plotly_india.png HTTP/1.1\u001b[0m\" 304 -\n",
      "127.0.0.1 - - [10/Jun/2021 20:47:55] \"GET /static/AR_37_India.png HTTP/1.1\" 200 -\n",
      "127.0.0.1 - - [10/Jun/2021 20:47:55] \"\u001b[36mGET /static/plotly_world.png HTTP/1.1\u001b[0m\" 304 -\n",
      "127.0.0.1 - - [10/Jun/2021 20:47:55] \"GET /static/SARIMAX_India.png HTTP/1.1\" 200 -\n",
      "127.0.0.1 - - [10/Jun/2021 20:47:55] \"GET /static/AR_18_world.png HTTP/1.1\" 200 -\n",
      "127.0.0.1 - - [10/Jun/2021 20:47:55] \"GET /static/SARIMAX_world.png HTTP/1.1\" 200 -\n",
      "127.0.0.1 - - [10/Jun/2021 20:47:55] \"\u001b[36mGET /static/model_india_lstm.png HTTP/1.1\u001b[0m\" 304 -\n",
      "127.0.0.1 - - [10/Jun/2021 20:47:55] \"\u001b[36mGET /static/model_world_lstm.png HTTP/1.1\u001b[0m\" 304 -\n"
     ]
    }
   ],
   "source": [
    "app = Flask(__name__)\n",
    "model_India_sarimax = pickle.load(open('models/model_India_SARIMAX.pkl', 'rb'))\n",
    "# model_India_AR_1=pickle.load(open('models/model_India_AR_1.pkl', 'rb'))\n",
    "model_India_AR_37=pickle.load(open('models/model_India_AR_37.pkl','rb'))\n",
    "# models_India=['model_India_sarimax','model_India_AR_1','model_India_AR_37']\n",
    "model_world_sarimax = pickle.load(open('models/model_world_SARIMAX.pkl', 'rb'))\n",
    "# model_world_AR_1=pickle.load(open('models/model_world_AR_1.pkl', 'rb'))\n",
    "model_world_AR_18=pickle.load(open('models/model_world_AR_18.pkl','rb'))\n",
    "models=['model_India_sarimax','model_world_sarimax','model_India_AR_37','model_world_AR_18']\n",
    "# models_world=['model_world_sarimax','model_world_AR_1','model_world_AR_18']\n",
    "# model_world = pickle.load(open('models/model_world.pkl', 'rb'))\n",
    "headings=(\"Date\",\"Cases\")\n",
    "@app.route('/', methods=['GET'])\n",
    "def index():\n",
    "    # Main page\n",
    "    return render_template('index.html')\n",
    "@app.route('/result', methods=['GET','POST'])\n",
    "def predict():\n",
    "    days=request.args.get('noOfDays')\n",
    "#     value=request.args.get('data')\n",
    "    days=int(days)\n",
    "#     if value=='India':\n",
    "    start=len(df_India)\n",
    "    stop=len(df_India)+days\n",
    "    start_w=len(df_world)\n",
    "    stop_w=len(df_world)+days\n",
    "    for i in models:\n",
    "        if i=='model_India_sarimax':\n",
    "\n",
    "            result=model_India_sarimax.predict(start,stop-1,dynamic=False).rename('forecast')\n",
    "            result=pd.Series(result).astype(int)\n",
    "            plt.plot(df_India['Daily_Change_C'],label=\"Daily confirmed cases\")\n",
    "            \n",
    "            result.plot(legend=True,figsize=(12,6))\n",
    "            plt.title(\"Confirmed covid cases forecasting\")\n",
    "            plt.legend(loc=(0.01, 0.85))\n",
    "            \n",
    "            \n",
    "            plt.savefig('static/SARIMAX_India.png')\n",
    "            plt.close()\n",
    "            result=result.to_frame()\n",
    "            result.reset_index(inplace=True)\n",
    "            result['index']=pd.to_datetime(result['index']).dt.strftime('%Y-%b-%d')\n",
    "#             print(result.columns)\n",
    "            result['forecast']=result['forecast'].apply('{:,}'.format)\n",
    "#             print(result)\n",
    "#                 result.to_csv('sarimax_india.csv')\n",
    "            result = list(result.values)\n",
    "        \n",
    "        elif i=='model_world_sarimax':\n",
    "            result1=model_world_sarimax.predict(start_w,stop_w,dynamic=False).rename('forecast')\n",
    "            \n",
    "            result1=pd.Series(result1).astype(int)\n",
    "            result1=np.around(result1)\n",
    "            plt.plot(df_world['Daily_Change_C'],label=\"Daily confirmed cases\")\n",
    "            result1.plot(legend=True,figsize=(12,6))\n",
    "            plt.title(\"Confirmed covid cases forecasting\")\n",
    "            \n",
    "            \n",
    "            plt.legend(loc=(0.01, 0.85))\n",
    "            \n",
    "            plt.savefig('static/SARIMAX_world.png')\n",
    "            plt.close()\n",
    "            result1=result1.to_frame()\n",
    "            result1.reset_index(inplace=True)\n",
    "            result1['index']=pd.to_datetime(result1['index']).dt.strftime('%d-%b-%Y')\n",
    "            result1['forecast']=result1['forecast'].apply('{:,}'.format)\n",
    "#                 result.to_csv('sarimax_world.csv')\n",
    "            result1 = list(result1.values)\n",
    "\n",
    "\n",
    "#         elif i=='model_India_AR_1':\n",
    "#             result2=model_India_AR_1.predict(start,stop,dynamic=False).rename('forecast')\n",
    "#             result2=pd.Series(result2).astype(int)\n",
    "#             df_India['Daily_Change_C'].plot(legend=True)\n",
    "#             result2.plot(legend=True,figsize=(12,6))\n",
    "#             plt.savefig('static/AR_1_India.png')\n",
    "#             plt.close()\n",
    "#             result2=result2.to_frame()\n",
    "#             result2.reset_index(inplace=True)\n",
    "#             result2['index'] = pd.to_datetime(result2['index']).dt.date\n",
    "# #                 result1.to_csv('AR_1_india.csv')\n",
    "#             result2 = list(result2.values)\n",
    "    \n",
    "#         elif i=='model_world_AR_1':\n",
    "#             result3=model_world_AR_1.predict(start_w,stop_w,dynamic=False).rename('forecast')\n",
    "#             result3=pd.Series(result3).astype(int)\n",
    "#             result3=np.around(result3)\n",
    "#             df_world['Daily_Change_C'].plot(legend=True)\n",
    "#             result3.plot(legend=True,figsize=(12,6))\n",
    "#             plt.savefig('static/AR_1_world.png')\n",
    "#             plt.close()\n",
    "#             result3=result3.to_frame()\n",
    "#             result3.reset_index(inplace=True)\n",
    "#             result3['index'] = pd.to_datetime(result3['index']).dt.date\n",
    "# #                 result1.to_csv('AR_1_world.csv')\n",
    "#             result3 = list(result3.values)\n",
    "    \n",
    "        elif i=='model_India_AR_37':\n",
    "            result4=model_India_AR_37.predict(start,stop-1,dynamic=False).rename('forecast')\n",
    "            result4=pd.Series(result4).astype(int)\n",
    "            plt.plot(df_India['Daily_Change_C'],label=\"Daily confirmed cases\")\n",
    "            result4.plot(legend=True,figsize=(12,6))\n",
    "            \n",
    "            plt.title(\"Confirmed covid cases forecasting\")\n",
    "            plt.legend(loc=(0.01, 0.85))\n",
    "            \n",
    "            plt.savefig('static/AR_37_India.png')\n",
    "            plt.close()\n",
    "            result4=result4.to_frame()\n",
    "            result4.reset_index(inplace=True)\n",
    "            result4['index']=pd.to_datetime(result4['index']).dt.strftime('%d-%b-%Y')\n",
    "            result4['forecast']=result4['forecast'].apply('{:,}'.format)\n",
    "#                 result2.to_csv('AR_37_india.csv')\n",
    "            result4 = list(result4.values)\n",
    "    \n",
    "        elif i=='model_world_AR_18':\n",
    "            result5=model_world_AR_18.predict(start_w,stop_w-1,dynamic=False).rename('forecast')\n",
    "            result5=pd.Series(result5).astype(int)\n",
    "            result5=np.around(result5)\n",
    "            plt.plot(df_world['Daily_Change_C'],label=\"Daily confirmed cases\")\n",
    "            result5.plot(legend=True,figsize=(12,6))\n",
    "            plt.title(\"Confirmed covid cases forecasting\")           \n",
    "            plt.legend(loc=(0.01, 0.85))           \n",
    "            plt.savefig('static/AR_18_world.png')\n",
    "            plt.close()\n",
    "            result5=result5.to_frame()\n",
    "            result5.reset_index(inplace=True)\n",
    "            result5['index']=pd.to_datetime(result5['index']).dt.strftime('%d-%b-%Y')\n",
    "            result5['forecast']=result5['forecast'].apply('{:,}'.format)\n",
    "#                 result2.to_csv('AR_37_world.csv')\n",
    "            result5 = list(result5.values)\n",
    "        result6=pd.read_csv('static/lstm_india.csv')\n",
    "        result6['Cases']=result6['Cases'].astype(int)\n",
    "        result6['Date']=pd.to_datetime(result6['Date']).dt.strftime('%d-%b-%Y')\n",
    "        result6['Cases']=result6['Cases'].apply('{:,}'.format)\n",
    "        result6 = list(result6.values)\n",
    "        result7=pd.read_csv('static/lstm_world.csv')\n",
    "        result7['Cases']=result7['Cases'].astype(int)\n",
    "        result7['Date']=pd.to_datetime(result7['Date']).dt.strftime('%d-%b-%Y')\n",
    "        result7['Cases']=result7['Cases'].apply('{:,}'.format)\n",
    "        result7 = list(result7.values)\n",
    "    return render_template('result.html',headings=headings,data=result4,data1=result5,data4=result,data5=result1,data6=result6,data7=result7)\n",
    "if __name__ == '__main__':\n",
    "    app.run()\n"
   ]
  },
  {
   "cell_type": "code",
   "execution_count": 84,
   "id": "7815f539",
   "metadata": {},
   "outputs": [],
   "source": [
    "result3=pd.read_csv('static/lstm_india.csv')"
   ]
  },
  {
   "cell_type": "code",
   "execution_count": 21,
   "id": "2e16ca23",
   "metadata": {},
   "outputs": [
    {
     "data": {
      "text/html": [
       "<div>\n",
       "<style scoped>\n",
       "    .dataframe tbody tr th:only-of-type {\n",
       "        vertical-align: middle;\n",
       "    }\n",
       "\n",
       "    .dataframe tbody tr th {\n",
       "        vertical-align: top;\n",
       "    }\n",
       "\n",
       "    .dataframe thead th {\n",
       "        text-align: right;\n",
       "    }\n",
       "</style>\n",
       "<table border=\"1\" class=\"dataframe\">\n",
       "  <thead>\n",
       "    <tr style=\"text-align: right;\">\n",
       "      <th></th>\n",
       "      <th>Date</th>\n",
       "      <th>Cases</th>\n",
       "    </tr>\n",
       "  </thead>\n",
       "  <tbody>\n",
       "    <tr>\n",
       "      <th>0</th>\n",
       "      <td>2021-05-20</td>\n",
       "      <td>367954.0</td>\n",
       "    </tr>\n",
       "    <tr>\n",
       "      <th>1</th>\n",
       "      <td>2021-05-21</td>\n",
       "      <td>351169.0</td>\n",
       "    </tr>\n",
       "    <tr>\n",
       "      <th>2</th>\n",
       "      <td>2021-05-22</td>\n",
       "      <td>339105.0</td>\n",
       "    </tr>\n",
       "    <tr>\n",
       "      <th>3</th>\n",
       "      <td>2021-05-23</td>\n",
       "      <td>337320.0</td>\n",
       "    </tr>\n",
       "    <tr>\n",
       "      <th>4</th>\n",
       "      <td>2021-05-24</td>\n",
       "      <td>330572.0</td>\n",
       "    </tr>\n",
       "  </tbody>\n",
       "</table>\n",
       "</div>"
      ],
      "text/plain": [
       "         Date     Cases\n",
       "0  2021-05-20  367954.0\n",
       "1  2021-05-21  351169.0\n",
       "2  2021-05-22  339105.0\n",
       "3  2021-05-23  337320.0\n",
       "4  2021-05-24  330572.0"
      ]
     },
     "execution_count": 21,
     "metadata": {},
     "output_type": "execute_result"
    }
   ],
   "source": [
    "result3"
   ]
  },
  {
   "cell_type": "code",
   "execution_count": 131,
   "id": "2c666e4b",
   "metadata": {},
   "outputs": [],
   "source": [
    "import datetime"
   ]
  },
  {
   "cell_type": "code",
   "execution_count": 134,
   "id": "a52f1eb5",
   "metadata": {},
   "outputs": [],
   "source": [
    "result3['Date']=pd.to_datetime(result3['Date']).dt.strftime('%Y-%b-%d')"
   ]
  },
  {
   "cell_type": "code",
   "execution_count": 148,
   "id": "81bf8552",
   "metadata": {},
   "outputs": [],
   "source": [
    "result3['Cases']=result3.Cases.apply(lambda x : \"{:,}\".format(x))"
   ]
  },
  {
   "cell_type": "code",
   "execution_count": 147,
   "id": "57a9b096",
   "metadata": {},
   "outputs": [
    {
     "data": {
      "text/html": [
       "<div>\n",
       "<style scoped>\n",
       "    .dataframe tbody tr th:only-of-type {\n",
       "        vertical-align: middle;\n",
       "    }\n",
       "\n",
       "    .dataframe tbody tr th {\n",
       "        vertical-align: top;\n",
       "    }\n",
       "\n",
       "    .dataframe thead th {\n",
       "        text-align: right;\n",
       "    }\n",
       "</style>\n",
       "<table border=\"1\" class=\"dataframe\">\n",
       "  <thead>\n",
       "    <tr style=\"text-align: right;\">\n",
       "      <th></th>\n",
       "      <th>Date</th>\n",
       "      <th>Cases</th>\n",
       "    </tr>\n",
       "  </thead>\n",
       "  <tbody>\n",
       "    <tr>\n",
       "      <th>0</th>\n",
       "      <td>2021-May-20</td>\n",
       "      <td>367954.0</td>\n",
       "    </tr>\n",
       "    <tr>\n",
       "      <th>1</th>\n",
       "      <td>2021-May-21</td>\n",
       "      <td>351169.0</td>\n",
       "    </tr>\n",
       "    <tr>\n",
       "      <th>2</th>\n",
       "      <td>2021-May-22</td>\n",
       "      <td>339105.0</td>\n",
       "    </tr>\n",
       "    <tr>\n",
       "      <th>3</th>\n",
       "      <td>2021-May-23</td>\n",
       "      <td>337320.0</td>\n",
       "    </tr>\n",
       "    <tr>\n",
       "      <th>4</th>\n",
       "      <td>2021-May-24</td>\n",
       "      <td>330572.0</td>\n",
       "    </tr>\n",
       "  </tbody>\n",
       "</table>\n",
       "</div>"
      ],
      "text/plain": [
       "          Date     Cases\n",
       "0  2021-May-20  367954.0\n",
       "1  2021-May-21  351169.0\n",
       "2  2021-May-22  339105.0\n",
       "3  2021-May-23  337320.0\n",
       "4  2021-May-24  330572.0"
      ]
     },
     "execution_count": 147,
     "metadata": {},
     "output_type": "execute_result"
    }
   ],
   "source": [
    "result3['']"
   ]
  },
  {
   "cell_type": "code",
   "execution_count": 137,
   "id": "6ed05c00",
   "metadata": {},
   "outputs": [],
   "source": [
    "result6=pd.read_csv('static/lstm_india.csv')"
   ]
  },
  {
   "cell_type": "code",
   "execution_count": 138,
   "id": "b02e9eea",
   "metadata": {},
   "outputs": [
    {
     "data": {
      "text/html": [
       "<div>\n",
       "<style scoped>\n",
       "    .dataframe tbody tr th:only-of-type {\n",
       "        vertical-align: middle;\n",
       "    }\n",
       "\n",
       "    .dataframe tbody tr th {\n",
       "        vertical-align: top;\n",
       "    }\n",
       "\n",
       "    .dataframe thead th {\n",
       "        text-align: right;\n",
       "    }\n",
       "</style>\n",
       "<table border=\"1\" class=\"dataframe\">\n",
       "  <thead>\n",
       "    <tr style=\"text-align: right;\">\n",
       "      <th></th>\n",
       "      <th>Date</th>\n",
       "      <th>Cases</th>\n",
       "    </tr>\n",
       "  </thead>\n",
       "  <tbody>\n",
       "    <tr>\n",
       "      <th>0</th>\n",
       "      <td>2021-05-20</td>\n",
       "      <td>367954.0</td>\n",
       "    </tr>\n",
       "    <tr>\n",
       "      <th>1</th>\n",
       "      <td>2021-05-21</td>\n",
       "      <td>351169.0</td>\n",
       "    </tr>\n",
       "    <tr>\n",
       "      <th>2</th>\n",
       "      <td>2021-05-22</td>\n",
       "      <td>339105.0</td>\n",
       "    </tr>\n",
       "    <tr>\n",
       "      <th>3</th>\n",
       "      <td>2021-05-23</td>\n",
       "      <td>337320.0</td>\n",
       "    </tr>\n",
       "    <tr>\n",
       "      <th>4</th>\n",
       "      <td>2021-05-24</td>\n",
       "      <td>330572.0</td>\n",
       "    </tr>\n",
       "  </tbody>\n",
       "</table>\n",
       "</div>"
      ],
      "text/plain": [
       "         Date     Cases\n",
       "0  2021-05-20  367954.0\n",
       "1  2021-05-21  351169.0\n",
       "2  2021-05-22  339105.0\n",
       "3  2021-05-23  337320.0\n",
       "4  2021-05-24  330572.0"
      ]
     },
     "execution_count": 138,
     "metadata": {},
     "output_type": "execute_result"
    }
   ],
   "source": [
    "result6"
   ]
  },
  {
   "cell_type": "code",
   "execution_count": null,
   "id": "00249861",
   "metadata": {},
   "outputs": [],
   "source": []
  }
 ],
 "metadata": {
  "kernelspec": {
   "display_name": "Python 3",
   "language": "python",
   "name": "python3"
  },
  "language_info": {
   "codemirror_mode": {
    "name": "ipython",
    "version": 3
   },
   "file_extension": ".py",
   "mimetype": "text/x-python",
   "name": "python",
   "nbconvert_exporter": "python",
   "pygments_lexer": "ipython3",
   "version": "3.7.10"
  }
 },
 "nbformat": 4,
 "nbformat_minor": 5
}
